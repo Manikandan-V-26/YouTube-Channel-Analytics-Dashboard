{
 "cells": [
  {
   "cell_type": "code",
   "execution_count": 1,
   "id": "351e85d1-50e1-400f-b9e1-a4a627287a43",
   "metadata": {},
   "outputs": [
    {
     "name": "stdout",
     "output_type": "stream",
     "text": [
      "Requirement already satisfied: selenium in c:\\users\\admin\\anaconda3\\lib\\site-packages (4.33.0)\n",
      "Requirement already satisfied: webdriver-manager in c:\\users\\admin\\anaconda3\\lib\\site-packages (4.0.2)\n",
      "Requirement already satisfied: urllib3~=2.4.0 in c:\\users\\admin\\anaconda3\\lib\\site-packages (from urllib3[socks]~=2.4.0->selenium) (2.4.0)\n",
      "Requirement already satisfied: trio~=0.30.0 in c:\\users\\admin\\anaconda3\\lib\\site-packages (from selenium) (0.30.0)\n",
      "Requirement already satisfied: trio-websocket~=0.12.2 in c:\\users\\admin\\anaconda3\\lib\\site-packages (from selenium) (0.12.2)\n",
      "Requirement already satisfied: certifi>=2025.4.26 in c:\\users\\admin\\anaconda3\\lib\\site-packages (from selenium) (2025.6.15)\n",
      "Requirement already satisfied: typing_extensions~=4.13.2 in c:\\users\\admin\\anaconda3\\lib\\site-packages (from selenium) (4.13.2)\n",
      "Requirement already satisfied: websocket-client~=1.8.0 in c:\\users\\admin\\anaconda3\\lib\\site-packages (from selenium) (1.8.0)\n",
      "Requirement already satisfied: requests in c:\\users\\admin\\anaconda3\\lib\\site-packages (from webdriver-manager) (2.32.3)\n",
      "Requirement already satisfied: python-dotenv in c:\\users\\admin\\anaconda3\\lib\\site-packages (from webdriver-manager) (0.21.0)\n",
      "Requirement already satisfied: packaging in c:\\users\\admin\\anaconda3\\lib\\site-packages (from webdriver-manager) (24.1)\n",
      "Requirement already satisfied: attrs>=23.2.0 in c:\\users\\admin\\anaconda3\\lib\\site-packages (from trio~=0.30.0->selenium) (25.3.0)\n",
      "Requirement already satisfied: sortedcontainers in c:\\users\\admin\\anaconda3\\lib\\site-packages (from trio~=0.30.0->selenium) (2.4.0)\n",
      "Requirement already satisfied: idna in c:\\users\\admin\\anaconda3\\lib\\site-packages (from trio~=0.30.0->selenium) (3.7)\n",
      "Requirement already satisfied: outcome in c:\\users\\admin\\anaconda3\\lib\\site-packages (from trio~=0.30.0->selenium) (1.3.0.post0)\n",
      "Requirement already satisfied: sniffio>=1.3.0 in c:\\users\\admin\\anaconda3\\lib\\site-packages (from trio~=0.30.0->selenium) (1.3.0)\n",
      "Requirement already satisfied: cffi>=1.14 in c:\\users\\admin\\anaconda3\\lib\\site-packages (from trio~=0.30.0->selenium) (1.17.1)\n",
      "Requirement already satisfied: wsproto>=0.14 in c:\\users\\admin\\anaconda3\\lib\\site-packages (from trio-websocket~=0.12.2->selenium) (1.2.0)\n",
      "Requirement already satisfied: pysocks!=1.5.7,<2.0,>=1.5.6 in c:\\users\\admin\\anaconda3\\lib\\site-packages (from urllib3[socks]~=2.4.0->selenium) (1.7.1)\n",
      "Requirement already satisfied: charset-normalizer<4,>=2 in c:\\users\\admin\\anaconda3\\lib\\site-packages (from requests->webdriver-manager) (3.3.2)\n",
      "Requirement already satisfied: pycparser in c:\\users\\admin\\anaconda3\\lib\\site-packages (from cffi>=1.14->trio~=0.30.0->selenium) (2.21)\n",
      "Requirement already satisfied: h11<1,>=0.9.0 in c:\\users\\admin\\anaconda3\\lib\\site-packages (from wsproto>=0.14->trio-websocket~=0.12.2->selenium) (0.14.0)\n",
      "Note: you may need to restart the kernel to use updated packages.\n"
     ]
    }
   ],
   "source": [
    "pip install selenium webdriver-manager"
   ]
  },
  {
   "cell_type": "code",
   "execution_count": 13,
   "id": "f73651a6-1e34-4ba1-a197-dfb03ed03337",
   "metadata": {},
   "outputs": [],
   "source": [
    "from selenium import webdriver\n",
    "from selenium.webdriver.chrome.service import Service\n",
    "from selenium.webdriver.common.by import By\n",
    "from webdriver_manager.chrome import ChromeDriverManager\n",
    "import pandas as pd\n",
    "\n",
    "#set  up the webdriver using the service\n",
    "service = Service(ChromeDriverManager().install())\n",
    "browser = webdriver.Chrome(service = service )"
   ]
  },
  {
   "cell_type": "code",
   "execution_count": 15,
   "id": "cd358ab4-4691-42e4-9467-a496533110ad",
   "metadata": {},
   "outputs": [],
   "source": [
    "browser.get(\"https://www.noxinfluencer.com/youtube-channel-rank/top-100-global\")"
   ]
  },
  {
   "cell_type": "code",
   "execution_count": 17,
   "id": "cad6b3b7-0d9a-48d0-a20e-a12972e1642d",
   "metadata": {},
   "outputs": [],
   "source": [
    "channels = []\n",
    "\n",
    "rows = browser .find_elements(By.CSS_SELECTOR, \"table tbody tr\")\n",
    "for row in rows:\n",
    "    cols = row.find_elements(By.TAG_NAME, \"td\")\n",
    "    if len(cols) >= 6:\n",
    "        channels.append({\n",
    "            \"Rank\": cols[0].text,\n",
    "            \"Channel Name\": cols[1].text,\n",
    "            \"Subscribers\": cols[3].text,\n",
    "            \"Category\": cols[2].text,\n",
    "            \"Views\": cols[4].text,\n",
    "            \"Nox_Score\": cols[6].text\n",
    "        })\n",
    "browser.quit()"
   ]
  },
  {
   "cell_type": "code",
   "execution_count": 19,
   "id": "256aaf2a-b107-42cd-aacb-47775d993e3a",
   "metadata": {},
   "outputs": [
    {
     "name": "stdout",
     "output_type": "stream",
     "text": [
      "   Rank                                 Channel Name Subscribers  \\\n",
      "0     -                       MrBeast\\n71%\\n@mrbeast  409M\\n0.7%   \n",
      "1     -                      T-Series\\n32%\\n@tseries  297M\\n0.3%   \n",
      "2     -  Cocomelon - Nursery Rhymes\\n70%\\n@cocomelon     194M\\n-   \n",
      "3  4\\n-                         SET India\\n@setindia     184M\\n-   \n",
      "4  5\\n-             Vlad and Niki\\n33%\\n@vladandniki  142M\\n0.7%   \n",
      "\n",
      "                   Category           Views Nox_Score  \n",
      "0             Entertainment  109.84M\\n14.8%            \n",
      "1                     Music  731.63K\\n38.7%            \n",
      "2  Education\\nEntertainment    3.63M\\n14.1%            \n",
      "3             Entertainment   18.28K\\n19.8%            \n",
      "4             Entertainment     1.85M\\n7.5%            \n"
     ]
    }
   ],
   "source": [
    "df = pd.DataFrame(channels)\n",
    "df.to_csv(\"top_youtub.csv\", index=False)\n",
    "print(df.head())"
   ]
  },
  {
   "cell_type": "code",
   "execution_count": null,
   "id": "e8ba9410-14f0-46dd-bd26-33982f2d9db6",
   "metadata": {},
   "outputs": [],
   "source": []
  }
 ],
 "metadata": {
  "kernelspec": {
   "display_name": "Python [conda env:base] *",
   "language": "python",
   "name": "conda-base-py"
  },
  "language_info": {
   "codemirror_mode": {
    "name": "ipython",
    "version": 3
   },
   "file_extension": ".py",
   "mimetype": "text/x-python",
   "name": "python",
   "nbconvert_exporter": "python",
   "pygments_lexer": "ipython3",
   "version": "3.12.7"
  }
 },
 "nbformat": 4,
 "nbformat_minor": 5
}
